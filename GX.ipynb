{
 "cells": [
  {
   "cell_type": "markdown",
   "id": "cecf326f",
   "metadata": {},
   "source": [
    "# A. Install Great Expectation Package"
   ]
  },
  {
   "cell_type": "code",
   "execution_count": 1,
   "id": "ed5fb37b",
   "metadata": {},
   "outputs": [],
   "source": [
    "# # Install the library\n",
    "\n",
    "# !pip install -q \"great-expectations==0.18.19\""
   ]
  },
  {
   "cell_type": "code",
   "execution_count": 2,
   "id": "9a748cbd",
   "metadata": {},
   "outputs": [],
   "source": [
    "import pandas as pd\n",
    "import great_expectations as gx\n",
    "from great_expectations.data_context import get_context"
   ]
  },
  {
   "cell_type": "markdown",
   "id": "aeb4eb46",
   "metadata": {},
   "source": [
    "# B. Data Loading"
   ]
  },
  {
   "cell_type": "code",
   "execution_count": 3,
   "id": "2d89286c",
   "metadata": {},
   "outputs": [
    {
     "data": {
      "text/html": [
       "<div>\n",
       "<style scoped>\n",
       "    .dataframe tbody tr th:only-of-type {\n",
       "        vertical-align: middle;\n",
       "    }\n",
       "\n",
       "    .dataframe tbody tr th {\n",
       "        vertical-align: top;\n",
       "    }\n",
       "\n",
       "    .dataframe thead th {\n",
       "        text-align: right;\n",
       "    }\n",
       "</style>\n",
       "<table border=\"1\" class=\"dataframe\">\n",
       "  <thead>\n",
       "    <tr style=\"text-align: right;\">\n",
       "      <th></th>\n",
       "      <th>hour_of_day</th>\n",
       "      <th>cash_type</th>\n",
       "      <th>money</th>\n",
       "      <th>coffee_name</th>\n",
       "      <th>time_of_day</th>\n",
       "      <th>weekday</th>\n",
       "      <th>month_name</th>\n",
       "      <th>weekdaysort</th>\n",
       "      <th>monthsort</th>\n",
       "      <th>date</th>\n",
       "      <th>time</th>\n",
       "      <th>transaction_id</th>\n",
       "    </tr>\n",
       "  </thead>\n",
       "  <tbody>\n",
       "    <tr>\n",
       "      <th>0</th>\n",
       "      <td>10</td>\n",
       "      <td>card</td>\n",
       "      <td>38.70</td>\n",
       "      <td>Latte</td>\n",
       "      <td>Morning</td>\n",
       "      <td>Fri</td>\n",
       "      <td>Mar</td>\n",
       "      <td>5</td>\n",
       "      <td>3</td>\n",
       "      <td>2024-03-01</td>\n",
       "      <td>2025-09-01 10:15:50</td>\n",
       "      <td>2024-03-01_10:15:50_Latte</td>\n",
       "    </tr>\n",
       "    <tr>\n",
       "      <th>1</th>\n",
       "      <td>12</td>\n",
       "      <td>card</td>\n",
       "      <td>38.70</td>\n",
       "      <td>Hot Chocolate</td>\n",
       "      <td>Afternoon</td>\n",
       "      <td>Fri</td>\n",
       "      <td>Mar</td>\n",
       "      <td>5</td>\n",
       "      <td>3</td>\n",
       "      <td>2024-03-01</td>\n",
       "      <td>2025-09-01 12:19:22</td>\n",
       "      <td>2024-03-01_12:19:22_Hot Chocolate</td>\n",
       "    </tr>\n",
       "    <tr>\n",
       "      <th>2</th>\n",
       "      <td>12</td>\n",
       "      <td>card</td>\n",
       "      <td>38.70</td>\n",
       "      <td>Hot Chocolate</td>\n",
       "      <td>Afternoon</td>\n",
       "      <td>Fri</td>\n",
       "      <td>Mar</td>\n",
       "      <td>5</td>\n",
       "      <td>3</td>\n",
       "      <td>2024-03-01</td>\n",
       "      <td>2025-09-01 12:20:18</td>\n",
       "      <td>2024-03-01_12:20:18_Hot Chocolate</td>\n",
       "    </tr>\n",
       "    <tr>\n",
       "      <th>3</th>\n",
       "      <td>13</td>\n",
       "      <td>card</td>\n",
       "      <td>28.90</td>\n",
       "      <td>Americano</td>\n",
       "      <td>Afternoon</td>\n",
       "      <td>Fri</td>\n",
       "      <td>Mar</td>\n",
       "      <td>5</td>\n",
       "      <td>3</td>\n",
       "      <td>2024-03-01</td>\n",
       "      <td>2025-09-01 13:46:33</td>\n",
       "      <td>2024-03-01_13:46:33_Americano</td>\n",
       "    </tr>\n",
       "    <tr>\n",
       "      <th>4</th>\n",
       "      <td>13</td>\n",
       "      <td>card</td>\n",
       "      <td>38.70</td>\n",
       "      <td>Latte</td>\n",
       "      <td>Afternoon</td>\n",
       "      <td>Fri</td>\n",
       "      <td>Mar</td>\n",
       "      <td>5</td>\n",
       "      <td>3</td>\n",
       "      <td>2024-03-01</td>\n",
       "      <td>2025-09-01 13:48:14</td>\n",
       "      <td>2024-03-01_13:48:14_Latte</td>\n",
       "    </tr>\n",
       "    <tr>\n",
       "      <th>3542</th>\n",
       "      <td>10</td>\n",
       "      <td>card</td>\n",
       "      <td>35.76</td>\n",
       "      <td>Cappuccino</td>\n",
       "      <td>Morning</td>\n",
       "      <td>Sun</td>\n",
       "      <td>Mar</td>\n",
       "      <td>7</td>\n",
       "      <td>3</td>\n",
       "      <td>2025-03-23</td>\n",
       "      <td>2025-09-01 10:34:54</td>\n",
       "      <td>2025-03-23_10:34:54_Cappuccino</td>\n",
       "    </tr>\n",
       "    <tr>\n",
       "      <th>3543</th>\n",
       "      <td>14</td>\n",
       "      <td>card</td>\n",
       "      <td>35.76</td>\n",
       "      <td>Cocoa</td>\n",
       "      <td>Afternoon</td>\n",
       "      <td>Sun</td>\n",
       "      <td>Mar</td>\n",
       "      <td>7</td>\n",
       "      <td>3</td>\n",
       "      <td>2025-03-23</td>\n",
       "      <td>2025-09-01 14:43:37</td>\n",
       "      <td>2025-03-23_14:43:37_Cocoa</td>\n",
       "    </tr>\n",
       "    <tr>\n",
       "      <th>3544</th>\n",
       "      <td>14</td>\n",
       "      <td>card</td>\n",
       "      <td>35.76</td>\n",
       "      <td>Cocoa</td>\n",
       "      <td>Afternoon</td>\n",
       "      <td>Sun</td>\n",
       "      <td>Mar</td>\n",
       "      <td>7</td>\n",
       "      <td>3</td>\n",
       "      <td>2025-03-23</td>\n",
       "      <td>2025-09-01 14:44:16</td>\n",
       "      <td>2025-03-23_14:44:16_Cocoa</td>\n",
       "    </tr>\n",
       "    <tr>\n",
       "      <th>3545</th>\n",
       "      <td>15</td>\n",
       "      <td>card</td>\n",
       "      <td>25.96</td>\n",
       "      <td>Americano</td>\n",
       "      <td>Afternoon</td>\n",
       "      <td>Sun</td>\n",
       "      <td>Mar</td>\n",
       "      <td>7</td>\n",
       "      <td>3</td>\n",
       "      <td>2025-03-23</td>\n",
       "      <td>2025-09-01 15:47:28</td>\n",
       "      <td>2025-03-23_15:47:28_Americano</td>\n",
       "    </tr>\n",
       "    <tr>\n",
       "      <th>3546</th>\n",
       "      <td>18</td>\n",
       "      <td>card</td>\n",
       "      <td>35.76</td>\n",
       "      <td>Latte</td>\n",
       "      <td>Night</td>\n",
       "      <td>Sun</td>\n",
       "      <td>Mar</td>\n",
       "      <td>7</td>\n",
       "      <td>3</td>\n",
       "      <td>2025-03-23</td>\n",
       "      <td>2025-09-01 18:11:38</td>\n",
       "      <td>2025-03-23_18:11:38_Latte</td>\n",
       "    </tr>\n",
       "  </tbody>\n",
       "</table>\n",
       "</div>"
      ],
      "text/plain": [
       "      hour_of_day cash_type  money    coffee_name time_of_day weekday  \\\n",
       "0              10      card  38.70          Latte     Morning     Fri   \n",
       "1              12      card  38.70  Hot Chocolate   Afternoon     Fri   \n",
       "2              12      card  38.70  Hot Chocolate   Afternoon     Fri   \n",
       "3              13      card  28.90      Americano   Afternoon     Fri   \n",
       "4              13      card  38.70          Latte   Afternoon     Fri   \n",
       "3542           10      card  35.76     Cappuccino     Morning     Sun   \n",
       "3543           14      card  35.76          Cocoa   Afternoon     Sun   \n",
       "3544           14      card  35.76          Cocoa   Afternoon     Sun   \n",
       "3545           15      card  25.96      Americano   Afternoon     Sun   \n",
       "3546           18      card  35.76          Latte       Night     Sun   \n",
       "\n",
       "     month_name  weekdaysort  monthsort       date                time  \\\n",
       "0           Mar            5          3 2024-03-01 2025-09-01 10:15:50   \n",
       "1           Mar            5          3 2024-03-01 2025-09-01 12:19:22   \n",
       "2           Mar            5          3 2024-03-01 2025-09-01 12:20:18   \n",
       "3           Mar            5          3 2024-03-01 2025-09-01 13:46:33   \n",
       "4           Mar            5          3 2024-03-01 2025-09-01 13:48:14   \n",
       "3542        Mar            7          3 2025-03-23 2025-09-01 10:34:54   \n",
       "3543        Mar            7          3 2025-03-23 2025-09-01 14:43:37   \n",
       "3544        Mar            7          3 2025-03-23 2025-09-01 14:44:16   \n",
       "3545        Mar            7          3 2025-03-23 2025-09-01 15:47:28   \n",
       "3546        Mar            7          3 2025-03-23 2025-09-01 18:11:38   \n",
       "\n",
       "                         transaction_id  \n",
       "0             2024-03-01_10:15:50_Latte  \n",
       "1     2024-03-01_12:19:22_Hot Chocolate  \n",
       "2     2024-03-01_12:20:18_Hot Chocolate  \n",
       "3         2024-03-01_13:46:33_Americano  \n",
       "4             2024-03-01_13:48:14_Latte  \n",
       "3542     2025-03-23_10:34:54_Cappuccino  \n",
       "3543          2025-03-23_14:43:37_Cocoa  \n",
       "3544          2025-03-23_14:44:16_Cocoa  \n",
       "3545      2025-03-23_15:47:28_Americano  \n",
       "3546          2025-03-23_18:11:38_Latte  "
      ]
     },
     "execution_count": 3,
     "metadata": {},
     "output_type": "execute_result"
    }
   ],
   "source": [
    "# Load Data\n",
    "df = pd.read_csv(r\"C:\\Users\\luthf\\OneDrive\\Documents\\FTDS_P2\\p2-ftds030-hck-m3-upilup\\dags\\P2M3_Muhammad_Luthfi_Alfatih_data_transformed.csv\", parse_dates=['date', 'time'])\n",
    "pd.concat([df.head(), df.tail()])"
   ]
  },
  {
   "cell_type": "code",
   "execution_count": 4,
   "id": "daa35848",
   "metadata": {},
   "outputs": [
    {
     "name": "stdout",
     "output_type": "stream",
     "text": [
      "<class 'pandas.core.frame.DataFrame'>\n",
      "RangeIndex: 3547 entries, 0 to 3546\n",
      "Data columns (total 12 columns):\n",
      " #   Column          Non-Null Count  Dtype         \n",
      "---  ------          --------------  -----         \n",
      " 0   hour_of_day     3547 non-null   int64         \n",
      " 1   cash_type       3547 non-null   object        \n",
      " 2   money           3547 non-null   float64       \n",
      " 3   coffee_name     3547 non-null   object        \n",
      " 4   time_of_day     3547 non-null   object        \n",
      " 5   weekday         3547 non-null   object        \n",
      " 6   month_name      3547 non-null   object        \n",
      " 7   weekdaysort     3547 non-null   int64         \n",
      " 8   monthsort       3547 non-null   int64         \n",
      " 9   date            3547 non-null   datetime64[ns]\n",
      " 10  time            3547 non-null   datetime64[ns]\n",
      " 11  transaction_id  3547 non-null   object        \n",
      "dtypes: datetime64[ns](2), float64(1), int64(3), object(6)\n",
      "memory usage: 332.7+ KB\n"
     ]
    },
    {
     "data": {
      "text/plain": [
       "None"
      ]
     },
     "metadata": {},
     "output_type": "display_data"
    },
    {
     "data": {
      "text/html": [
       "<div>\n",
       "<style scoped>\n",
       "    .dataframe tbody tr th:only-of-type {\n",
       "        vertical-align: middle;\n",
       "    }\n",
       "\n",
       "    .dataframe tbody tr th {\n",
       "        vertical-align: top;\n",
       "    }\n",
       "\n",
       "    .dataframe thead th {\n",
       "        text-align: right;\n",
       "    }\n",
       "</style>\n",
       "<table border=\"1\" class=\"dataframe\">\n",
       "  <thead>\n",
       "    <tr style=\"text-align: right;\">\n",
       "      <th></th>\n",
       "      <th>hour_of_day</th>\n",
       "      <th>money</th>\n",
       "      <th>weekdaysort</th>\n",
       "      <th>monthsort</th>\n",
       "      <th>date</th>\n",
       "      <th>time</th>\n",
       "    </tr>\n",
       "  </thead>\n",
       "  <tbody>\n",
       "    <tr>\n",
       "      <th>count</th>\n",
       "      <td>3547.000000</td>\n",
       "      <td>3547.000000</td>\n",
       "      <td>3547.000000</td>\n",
       "      <td>3547.000000</td>\n",
       "      <td>3547</td>\n",
       "      <td>3547</td>\n",
       "    </tr>\n",
       "    <tr>\n",
       "      <th>mean</th>\n",
       "      <td>14.185791</td>\n",
       "      <td>31.645216</td>\n",
       "      <td>3.845785</td>\n",
       "      <td>6.453905</td>\n",
       "      <td>2024-10-04 17:34:43.676346368</td>\n",
       "      <td>2025-09-01 14:39:40.621933824</td>\n",
       "    </tr>\n",
       "    <tr>\n",
       "      <th>min</th>\n",
       "      <td>6.000000</td>\n",
       "      <td>18.120000</td>\n",
       "      <td>1.000000</td>\n",
       "      <td>1.000000</td>\n",
       "      <td>2024-03-01 00:00:00</td>\n",
       "      <td>2025-09-01 06:50:04</td>\n",
       "    </tr>\n",
       "    <tr>\n",
       "      <th>25%</th>\n",
       "      <td>10.000000</td>\n",
       "      <td>27.920000</td>\n",
       "      <td>2.000000</td>\n",
       "      <td>3.000000</td>\n",
       "      <td>2024-07-17 12:00:00</td>\n",
       "      <td>2025-09-01 10:55:31</td>\n",
       "    </tr>\n",
       "    <tr>\n",
       "      <th>50%</th>\n",
       "      <td>14.000000</td>\n",
       "      <td>32.820000</td>\n",
       "      <td>4.000000</td>\n",
       "      <td>7.000000</td>\n",
       "      <td>2024-10-10 00:00:00</td>\n",
       "      <td>2025-09-01 14:29:43</td>\n",
       "    </tr>\n",
       "    <tr>\n",
       "      <th>75%</th>\n",
       "      <td>18.000000</td>\n",
       "      <td>35.760000</td>\n",
       "      <td>6.000000</td>\n",
       "      <td>10.000000</td>\n",
       "      <td>2025-01-11 00:00:00</td>\n",
       "      <td>2025-09-01 18:10:04.500000</td>\n",
       "    </tr>\n",
       "    <tr>\n",
       "      <th>max</th>\n",
       "      <td>22.000000</td>\n",
       "      <td>38.700000</td>\n",
       "      <td>7.000000</td>\n",
       "      <td>12.000000</td>\n",
       "      <td>2025-03-23 00:00:00</td>\n",
       "      <td>2025-09-01 22:59:18</td>\n",
       "    </tr>\n",
       "    <tr>\n",
       "      <th>std</th>\n",
       "      <td>4.234010</td>\n",
       "      <td>4.877754</td>\n",
       "      <td>1.971501</td>\n",
       "      <td>3.500754</td>\n",
       "      <td>NaN</td>\n",
       "      <td>NaN</td>\n",
       "    </tr>\n",
       "  </tbody>\n",
       "</table>\n",
       "</div>"
      ],
      "text/plain": [
       "       hour_of_day        money  weekdaysort    monthsort  \\\n",
       "count  3547.000000  3547.000000  3547.000000  3547.000000   \n",
       "mean     14.185791    31.645216     3.845785     6.453905   \n",
       "min       6.000000    18.120000     1.000000     1.000000   \n",
       "25%      10.000000    27.920000     2.000000     3.000000   \n",
       "50%      14.000000    32.820000     4.000000     7.000000   \n",
       "75%      18.000000    35.760000     6.000000    10.000000   \n",
       "max      22.000000    38.700000     7.000000    12.000000   \n",
       "std       4.234010     4.877754     1.971501     3.500754   \n",
       "\n",
       "                                date                           time  \n",
       "count                           3547                           3547  \n",
       "mean   2024-10-04 17:34:43.676346368  2025-09-01 14:39:40.621933824  \n",
       "min              2024-03-01 00:00:00            2025-09-01 06:50:04  \n",
       "25%              2024-07-17 12:00:00            2025-09-01 10:55:31  \n",
       "50%              2024-10-10 00:00:00            2025-09-01 14:29:43  \n",
       "75%              2025-01-11 00:00:00     2025-09-01 18:10:04.500000  \n",
       "max              2025-03-23 00:00:00            2025-09-01 22:59:18  \n",
       "std                              NaN                            NaN  "
      ]
     },
     "metadata": {},
     "output_type": "display_data"
    },
    {
     "name": "stdout",
     "output_type": "stream",
     "text": [
      "Unique Values:\n"
     ]
    },
    {
     "data": {
      "text/plain": [
       "hour_of_day         17\n",
       "cash_type            1\n",
       "money               13\n",
       "coffee_name          8\n",
       "time_of_day          3\n",
       "weekday              7\n",
       "month_name          12\n",
       "weekdaysort          7\n",
       "monthsort           12\n",
       "date               381\n",
       "time              3420\n",
       "transaction_id    3547\n",
       "dtype: int64"
      ]
     },
     "metadata": {},
     "output_type": "display_data"
    }
   ],
   "source": [
    "display(df.info())\n",
    "display(df.describe())\n",
    "print(\"Unique Values:\")\n",
    "display(df.nunique())"
   ]
  },
  {
   "cell_type": "markdown",
   "id": "422f3664",
   "metadata": {},
   "source": [
    "# C. Create an Expectation Suite\n",
    "- Sebuah `Expectation Suite` adalah kumpulan aturan atau pernyataan yang bisa diverifikasi terhadap data. Expectation Suite menggabungkan beberapa Expectation untuk membentuk deskripsi menyeluruh mengenai data.\n",
    "- Nama `Expectation Suite` bisa dibuat sesuai kebutuhan, dengan syarat harus unik dalam satu project.\n",
    "- Untuk membuatnya, kita akan menggunakan Validator agar dapat berinteraksi dengan batch data dan menghasilkan sebuah `Expectation Suite`.\n",
    "- Setiap kali kita menjalankan sebuah Expectation dengan `validator.expect_*`, aturan tersebut langsung divalidasi terhadap data yang digunakan."
   ]
  },
  {
   "cell_type": "code",
   "execution_count": 5,
   "id": "e6717f15",
   "metadata": {},
   "outputs": [
    {
     "data": {
      "application/vnd.jupyter.widget-view+json": {
       "model_id": "b0ffbb9490f340578e95c86bab5b7be2",
       "version_major": 2,
       "version_minor": 0
      },
      "text/plain": [
       "Calculating Metrics:   0%|          | 0/1 [00:00<?, ?it/s]"
      ]
     },
     "metadata": {},
     "output_type": "display_data"
    },
    {
     "data": {
      "text/html": [
       "<div>\n",
       "<style scoped>\n",
       "    .dataframe tbody tr th:only-of-type {\n",
       "        vertical-align: middle;\n",
       "    }\n",
       "\n",
       "    .dataframe tbody tr th {\n",
       "        vertical-align: top;\n",
       "    }\n",
       "\n",
       "    .dataframe thead th {\n",
       "        text-align: right;\n",
       "    }\n",
       "</style>\n",
       "<table border=\"1\" class=\"dataframe\">\n",
       "  <thead>\n",
       "    <tr style=\"text-align: right;\">\n",
       "      <th></th>\n",
       "      <th>hour_of_day</th>\n",
       "      <th>cash_type</th>\n",
       "      <th>money</th>\n",
       "      <th>coffee_name</th>\n",
       "      <th>time_of_day</th>\n",
       "      <th>weekday</th>\n",
       "      <th>month_name</th>\n",
       "      <th>weekdaysort</th>\n",
       "      <th>monthsort</th>\n",
       "      <th>date</th>\n",
       "      <th>time</th>\n",
       "      <th>transaction_id</th>\n",
       "    </tr>\n",
       "  </thead>\n",
       "  <tbody>\n",
       "    <tr>\n",
       "      <th>0</th>\n",
       "      <td>10</td>\n",
       "      <td>card</td>\n",
       "      <td>38.7</td>\n",
       "      <td>Latte</td>\n",
       "      <td>Morning</td>\n",
       "      <td>Fri</td>\n",
       "      <td>Mar</td>\n",
       "      <td>5</td>\n",
       "      <td>3</td>\n",
       "      <td>2024-03-01</td>\n",
       "      <td>10:15:50</td>\n",
       "      <td>2024-03-01_10:15:50_Latte</td>\n",
       "    </tr>\n",
       "    <tr>\n",
       "      <th>1</th>\n",
       "      <td>12</td>\n",
       "      <td>card</td>\n",
       "      <td>38.7</td>\n",
       "      <td>Hot Chocolate</td>\n",
       "      <td>Afternoon</td>\n",
       "      <td>Fri</td>\n",
       "      <td>Mar</td>\n",
       "      <td>5</td>\n",
       "      <td>3</td>\n",
       "      <td>2024-03-01</td>\n",
       "      <td>12:19:22</td>\n",
       "      <td>2024-03-01_12:19:22_Hot Chocolate</td>\n",
       "    </tr>\n",
       "    <tr>\n",
       "      <th>2</th>\n",
       "      <td>12</td>\n",
       "      <td>card</td>\n",
       "      <td>38.7</td>\n",
       "      <td>Hot Chocolate</td>\n",
       "      <td>Afternoon</td>\n",
       "      <td>Fri</td>\n",
       "      <td>Mar</td>\n",
       "      <td>5</td>\n",
       "      <td>3</td>\n",
       "      <td>2024-03-01</td>\n",
       "      <td>12:20:18</td>\n",
       "      <td>2024-03-01_12:20:18_Hot Chocolate</td>\n",
       "    </tr>\n",
       "    <tr>\n",
       "      <th>3</th>\n",
       "      <td>13</td>\n",
       "      <td>card</td>\n",
       "      <td>28.9</td>\n",
       "      <td>Americano</td>\n",
       "      <td>Afternoon</td>\n",
       "      <td>Fri</td>\n",
       "      <td>Mar</td>\n",
       "      <td>5</td>\n",
       "      <td>3</td>\n",
       "      <td>2024-03-01</td>\n",
       "      <td>13:46:33</td>\n",
       "      <td>2024-03-01_13:46:33_Americano</td>\n",
       "    </tr>\n",
       "    <tr>\n",
       "      <th>4</th>\n",
       "      <td>13</td>\n",
       "      <td>card</td>\n",
       "      <td>38.7</td>\n",
       "      <td>Latte</td>\n",
       "      <td>Afternoon</td>\n",
       "      <td>Fri</td>\n",
       "      <td>Mar</td>\n",
       "      <td>5</td>\n",
       "      <td>3</td>\n",
       "      <td>2024-03-01</td>\n",
       "      <td>13:48:14</td>\n",
       "      <td>2024-03-01_13:48:14_Latte</td>\n",
       "    </tr>\n",
       "  </tbody>\n",
       "</table>\n",
       "</div>"
      ],
      "text/plain": [
       "   hour_of_day cash_type  money    coffee_name time_of_day weekday month_name  \\\n",
       "0           10      card   38.7          Latte     Morning     Fri        Mar   \n",
       "1           12      card   38.7  Hot Chocolate   Afternoon     Fri        Mar   \n",
       "2           12      card   38.7  Hot Chocolate   Afternoon     Fri        Mar   \n",
       "3           13      card   28.9      Americano   Afternoon     Fri        Mar   \n",
       "4           13      card   38.7          Latte   Afternoon     Fri        Mar   \n",
       "\n",
       "   weekdaysort  monthsort        date      time  \\\n",
       "0            5          3  2024-03-01  10:15:50   \n",
       "1            5          3  2024-03-01  12:19:22   \n",
       "2            5          3  2024-03-01  12:20:18   \n",
       "3            5          3  2024-03-01  13:46:33   \n",
       "4            5          3  2024-03-01  13:48:14   \n",
       "\n",
       "                      transaction_id  \n",
       "0          2024-03-01_10:15:50_Latte  \n",
       "1  2024-03-01_12:19:22_Hot Chocolate  \n",
       "2  2024-03-01_12:20:18_Hot Chocolate  \n",
       "3      2024-03-01_13:46:33_Americano  \n",
       "4          2024-03-01_13:48:14_Latte  "
      ]
     },
     "execution_count": 5,
     "metadata": {},
     "output_type": "execute_result"
    }
   ],
   "source": [
    "# Creat an expectation suite\n",
    "expectation_suite_name = 'coffee_sales'\n",
    "context = get_context()\n",
    "context.add_or_update_expectation_suite(expectation_suite_name)\n",
    "\n",
    "# Give a name to a Datasource. This name must be unique between Datasources.\n",
    "datasource_name = 'coffee_sales'\n",
    "datasource = context.sources.add_pandas(datasource_name)\n",
    "\n",
    "# Give a name to a data asset\n",
    "asset_name = 'coffee_sales'\n",
    "path_to_data = r'C:\\Users\\luthf\\OneDrive\\Documents\\FTDS_P2\\p2-ftds030-hck-m3-upilup\\dags\\P2M3_Muhammad_Luthfi_Alfatih_data_transformed.csv'\n",
    "asset = datasource.add_csv_asset(asset_name, filepath_or_buffer=path_to_data)\n",
    "\n",
    "# Build batch request\n",
    "batch_request = asset.build_batch_request()\n",
    "\n",
    "# Create a validator using above expectation suite\n",
    "validator = context.get_validator(\n",
    "    batch_request = batch_request,\n",
    "    expectation_suite_name = expectation_suite_name\n",
    ")\n",
    "\n",
    "# Check the validator\n",
    "validator.head()"
   ]
  },
  {
   "cell_type": "markdown",
   "id": "6724d69d",
   "metadata": {},
   "source": [
    "# D. Expectation\n",
    "Setelah `Expectation Suite` dibuat, tahap berikutnya adalah mendefinisikan beberapa Expectation untuk memastikan kualitas data. Expectation ini berfungsi sebagai aturan validasi agar data penjualan kopi memenuhi kriteria yang diharapkan, seperti keunikan ID transaksi, rentang nilai uang, hingga keberadaan kolom tertentu."
   ]
  },
  {
   "cell_type": "code",
   "execution_count": 6,
   "id": "f896fdbc",
   "metadata": {},
   "outputs": [
    {
     "data": {
      "application/vnd.jupyter.widget-view+json": {
       "model_id": "4aa5d473ec534766bce358e9a3f66d66",
       "version_major": 2,
       "version_minor": 0
      },
      "text/plain": [
       "Calculating Metrics:   0%|          | 0/8 [00:00<?, ?it/s]"
      ]
     },
     "metadata": {},
     "output_type": "display_data"
    },
    {
     "data": {
      "text/plain": [
       "{\n",
       "  \"success\": true,\n",
       "  \"result\": {\n",
       "    \"element_count\": 3547,\n",
       "    \"unexpected_count\": 0,\n",
       "    \"unexpected_percent\": 0.0,\n",
       "    \"partial_unexpected_list\": [],\n",
       "    \"missing_count\": 0,\n",
       "    \"missing_percent\": 0.0,\n",
       "    \"unexpected_percent_total\": 0.0,\n",
       "    \"unexpected_percent_nonmissing\": 0.0\n",
       "  },\n",
       "  \"meta\": {},\n",
       "  \"exception_info\": {\n",
       "    \"raised_exception\": false,\n",
       "    \"exception_traceback\": null,\n",
       "    \"exception_message\": null\n",
       "  }\n",
       "}"
      ]
     },
     "execution_count": 6,
     "metadata": {},
     "output_type": "execute_result"
    }
   ],
   "source": [
    "# Expectation 1 : Column `transaction_id` to be unique\n",
    "\n",
    "validator.expect_column_values_to_be_unique(column='transaction_id')"
   ]
  },
  {
   "cell_type": "markdown",
   "id": "3ce7fcc9",
   "metadata": {},
   "source": [
    "`validator.expect_column_values_to_be_unique(column='transaction_id')` digunakan untuk memverifikasi bahwa setiap nilai pada kolom `transaction_id` bersifat unik. Hasil validasi menunjukkan **success: true** dengan `unexpected_coun: 0`, artinya tidak ada duplikasi dan seluruh 3.547 baris data memiliki ID transaksi yang unik."
   ]
  },
  {
   "cell_type": "code",
   "execution_count": 7,
   "id": "e6b9c611",
   "metadata": {},
   "outputs": [
    {
     "data": {
      "application/vnd.jupyter.widget-view+json": {
       "model_id": "529a14e3a04e43fd973ddcbec56c7277",
       "version_major": 2,
       "version_minor": 0
      },
      "text/plain": [
       "Calculating Metrics:   0%|          | 0/8 [00:00<?, ?it/s]"
      ]
     },
     "metadata": {},
     "output_type": "display_data"
    },
    {
     "data": {
      "text/plain": [
       "{\n",
       "  \"success\": true,\n",
       "  \"result\": {\n",
       "    \"element_count\": 3547,\n",
       "    \"unexpected_count\": 0,\n",
       "    \"unexpected_percent\": 0.0,\n",
       "    \"partial_unexpected_list\": [],\n",
       "    \"missing_count\": 0,\n",
       "    \"missing_percent\": 0.0,\n",
       "    \"unexpected_percent_total\": 0.0,\n",
       "    \"unexpected_percent_nonmissing\": 0.0\n",
       "  },\n",
       "  \"meta\": {},\n",
       "  \"exception_info\": {\n",
       "    \"raised_exception\": false,\n",
       "    \"exception_traceback\": null,\n",
       "    \"exception_message\": null\n",
       "  }\n",
       "}"
      ]
     },
     "execution_count": 7,
     "metadata": {},
     "output_type": "execute_result"
    }
   ],
   "source": [
    "# Expectation 2 : Column `money` to be between min_value and max_value\n",
    "\n",
    "validator.expect_column_values_to_be_between('money', min_value=0, max_value=40)"
   ]
  },
  {
   "cell_type": "markdown",
   "id": "919f66b7",
   "metadata": {},
   "source": [
    "`validator.expect_column_values_to_be_between('money', min_value=0, max_value=40)` digunakan untuk memastikan bahwa seluruh nilai pada kolom `money` berada dalam rentang 0 hingga 40. Hasil validasi menunjukkan **success: true** dengan `unexpected_count: 0`, artinya semua 3.547 baris data memenuhi aturan tanpa ada nilai yang keluar dari baris."
   ]
  },
  {
   "cell_type": "code",
   "execution_count": 8,
   "id": "43c195a9",
   "metadata": {},
   "outputs": [
    {
     "name": "stdout",
     "output_type": "stream",
     "text": [
      "['Mar' 'Apr' 'May' 'Jun' 'Jul' 'Aug' 'Sep' 'Oct' 'Nov' 'Dec' 'Jan' 'Feb']\n"
     ]
    },
    {
     "data": {
      "application/vnd.jupyter.widget-view+json": {
       "model_id": "639b199f21a6486da0aa4b760fe0e805",
       "version_major": 2,
       "version_minor": 0
      },
      "text/plain": [
       "Calculating Metrics:   0%|          | 0/8 [00:00<?, ?it/s]"
      ]
     },
     "metadata": {},
     "output_type": "display_data"
    },
    {
     "data": {
      "text/plain": [
       "{\n",
       "  \"success\": true,\n",
       "  \"result\": {\n",
       "    \"element_count\": 3547,\n",
       "    \"unexpected_count\": 0,\n",
       "    \"unexpected_percent\": 0.0,\n",
       "    \"partial_unexpected_list\": [],\n",
       "    \"missing_count\": 0,\n",
       "    \"missing_percent\": 0.0,\n",
       "    \"unexpected_percent_total\": 0.0,\n",
       "    \"unexpected_percent_nonmissing\": 0.0\n",
       "  },\n",
       "  \"meta\": {},\n",
       "  \"exception_info\": {\n",
       "    \"raised_exception\": false,\n",
       "    \"exception_traceback\": null,\n",
       "    \"exception_message\": null\n",
       "  }\n",
       "}"
      ]
     },
     "execution_count": 8,
     "metadata": {},
     "output_type": "execute_result"
    }
   ],
   "source": [
    "# Expectation 3 : Column `month_name` to be in set\n",
    "\n",
    "validator.expect_column_values_to_be_in_set('month_name', print(df['month_name'].unique()))"
   ]
  },
  {
   "cell_type": "markdown",
   "id": "4330824d",
   "metadata": {},
   "source": [
    "`validator.expect_column_values_to_be_in_set('month_name', print(df['month_name'].unique()))` digunakan untuk memastikan bahwa nilai pada kolom `month_name` hanya berisi nama bulan yang valid sesuai daftar unik pada dataset. Hasil validasi menunjukkan **success: true** dengan `unexpected_count: 0`, artinya semua 3.547 baris data memiliki nilai bulan yang sesuai dan tidak ada data yang keluar dari set yang ditentukan."
   ]
  },
  {
   "cell_type": "code",
   "execution_count": 9,
   "id": "289812cf",
   "metadata": {},
   "outputs": [
    {
     "data": {
      "application/vnd.jupyter.widget-view+json": {
       "model_id": "357c205859ef4b0fbc80ee3504ca6b83",
       "version_major": 2,
       "version_minor": 0
      },
      "text/plain": [
       "Calculating Metrics:   0%|          | 0/8 [00:00<?, ?it/s]"
      ]
     },
     "metadata": {},
     "output_type": "display_data"
    },
    {
     "data": {
      "text/plain": [
       "{\n",
       "  \"success\": true,\n",
       "  \"result\": {\n",
       "    \"element_count\": 3547,\n",
       "    \"unexpected_count\": 0,\n",
       "    \"unexpected_percent\": 0.0,\n",
       "    \"partial_unexpected_list\": [],\n",
       "    \"missing_count\": 0,\n",
       "    \"missing_percent\": 0.0,\n",
       "    \"unexpected_percent_total\": 0.0,\n",
       "    \"unexpected_percent_nonmissing\": 0.0\n",
       "  },\n",
       "  \"meta\": {},\n",
       "  \"exception_info\": {\n",
       "    \"raised_exception\": false,\n",
       "    \"exception_traceback\": null,\n",
       "    \"exception_message\": null\n",
       "  }\n",
       "}"
      ]
     },
     "execution_count": 9,
     "metadata": {},
     "output_type": "execute_result"
    }
   ],
   "source": [
    "# Expectation 4 : Column `weekday` to be in type list\n",
    "\n",
    "validator.expect_column_values_to_be_in_type_list('weekday', ['str'])"
   ]
  },
  {
   "cell_type": "markdown",
   "id": "cdb66168",
   "metadata": {},
   "source": [
    "`validator.expect_column_values_to_be_in_type_list('weekday', ['str'])` digunakan untuk memastikan bahwa semua nilai pada kolom `weekday` bertipe string. Hasil validasi menunjukkan **success: true** dengan `unexpected_count: 0`, artinya seluruh 3.547 baris data sudah sesuai tipe yang diharapkan tanpa ada nilai yang salah tipe."
   ]
  },
  {
   "cell_type": "code",
   "execution_count": 10,
   "id": "0583eaac",
   "metadata": {},
   "outputs": [
    {
     "data": {
      "application/vnd.jupyter.widget-view+json": {
       "model_id": "acb30db2b61348129a1ba40e3f96ba33",
       "version_major": 2,
       "version_minor": 0
      },
      "text/plain": [
       "Calculating Metrics:   0%|          | 0/6 [00:00<?, ?it/s]"
      ]
     },
     "metadata": {},
     "output_type": "display_data"
    },
    {
     "data": {
      "text/plain": [
       "{\n",
       "  \"success\": true,\n",
       "  \"result\": {\n",
       "    \"element_count\": 3547,\n",
       "    \"unexpected_count\": 0,\n",
       "    \"unexpected_percent\": 0.0,\n",
       "    \"partial_unexpected_list\": []\n",
       "  },\n",
       "  \"meta\": {},\n",
       "  \"exception_info\": {\n",
       "    \"raised_exception\": false,\n",
       "    \"exception_traceback\": null,\n",
       "    \"exception_message\": null\n",
       "  }\n",
       "}"
      ]
     },
     "execution_count": 10,
     "metadata": {},
     "output_type": "execute_result"
    }
   ],
   "source": [
    "# Expectation 5 : Column `time` to be not null\n",
    "\n",
    "validator.expect_column_values_to_not_be_null('time')"
   ]
  },
  {
   "cell_type": "markdown",
   "id": "d251d906",
   "metadata": {},
   "source": [
    "`validator.expect_column_values_to_not_be_null('time')` digunakan untuk memastikan bahwa kolom `time` tidak memiliki nilai kosong. Hasil validasi menunjukkan **success: true** dengan `unexpected_count: 0`, artinya seluruh 3.547 baris data memiliki nilai yang lengkap tanpa ada yang null."
   ]
  },
  {
   "cell_type": "code",
   "execution_count": 11,
   "id": "0f1089e4",
   "metadata": {},
   "outputs": [
    {
     "data": {
      "application/vnd.jupyter.widget-view+json": {
       "model_id": "cfa622b8f5594a34ac715ea37b1b6785",
       "version_major": 2,
       "version_minor": 0
      },
      "text/plain": [
       "Calculating Metrics:   0%|          | 0/2 [00:00<?, ?it/s]"
      ]
     },
     "metadata": {},
     "output_type": "display_data"
    },
    {
     "data": {
      "text/plain": [
       "{\n",
       "  \"success\": true,\n",
       "  \"result\": {},\n",
       "  \"meta\": {},\n",
       "  \"exception_info\": {\n",
       "    \"raised_exception\": false,\n",
       "    \"exception_traceback\": null,\n",
       "    \"exception_message\": null\n",
       "  }\n",
       "}"
      ]
     },
     "execution_count": 11,
     "metadata": {},
     "output_type": "execute_result"
    }
   ],
   "source": [
    "# Expectation 6 : Column `hour_of_day` to be exist\n",
    "\n",
    "validator.expect_column_to_exist('hour_of_day')"
   ]
  },
  {
   "cell_type": "markdown",
   "id": "d2165deb",
   "metadata": {},
   "source": [
    "`validator.expect_column_to_exist('hour_of_day')` digunakan untuk memverifikasi bahwa kolom `hour_of_day` tersedia dalam dataset. Hasil validasi menunjukkan **success: true**, artinya kolom tersebut memang ada dan bisa diugnakan untuk analisa lebih lanjut."
   ]
  },
  {
   "cell_type": "code",
   "execution_count": 12,
   "id": "43c43a34",
   "metadata": {},
   "outputs": [
    {
     "data": {
      "application/vnd.jupyter.widget-view+json": {
       "model_id": "974a53bbac7e47e99feac011f65780eb",
       "version_major": 2,
       "version_minor": 0
      },
      "text/plain": [
       "Calculating Metrics:   0%|          | 0/2 [00:00<?, ?it/s]"
      ]
     },
     "metadata": {},
     "output_type": "display_data"
    },
    {
     "data": {
      "text/plain": [
       "{\n",
       "  \"success\": true,\n",
       "  \"result\": {\n",
       "    \"observed_value\": [\n",
       "      \"hour_of_day\",\n",
       "      \"cash_type\",\n",
       "      \"money\",\n",
       "      \"coffee_name\",\n",
       "      \"time_of_day\",\n",
       "      \"weekday\",\n",
       "      \"month_name\",\n",
       "      \"weekdaysort\",\n",
       "      \"monthsort\",\n",
       "      \"date\",\n",
       "      \"time\",\n",
       "      \"transaction_id\"\n",
       "    ]\n",
       "  },\n",
       "  \"meta\": {},\n",
       "  \"exception_info\": {\n",
       "    \"raised_exception\": false,\n",
       "    \"exception_traceback\": null,\n",
       "    \"exception_message\": null\n",
       "  }\n",
       "}"
      ]
     },
     "execution_count": 12,
     "metadata": {},
     "output_type": "execute_result"
    }
   ],
   "source": [
    "# Expectation 7 : Expected columns in a ordered list\n",
    "\n",
    "validator.expect_table_columns_to_match_ordered_list(column_list=df.columns)"
   ]
  },
  {
   "cell_type": "markdown",
   "id": "acf95f17",
   "metadata": {},
   "source": [
    "`validator.expect_table_columns_to_match_ordered_list(column_list=df.columns)` digunakan untuk memastikan bahwa struktur tabel memiliki urutan kolom sesuai dengan daftar yang diharapkan. Hasil validasi menujukkan **success: true** dengan daftar kolom yang sesuai. Artinya, semua kolom sudah lengkap dan berurutan sesuai spesifikasi dataset."
   ]
  },
  {
   "cell_type": "markdown",
   "id": "4ed515e4",
   "metadata": {},
   "source": [
    "# E. Save Suite to Context\n",
    "Bagian ini digunakan untuk menyimpan seluruh `Expectation Suite` yang sudah dibuat ke dalam `context`. Dengan begitu, suite bisa dipanggil kembali atau dijalankan ulang di tahap selanjutnya."
   ]
  },
  {
   "cell_type": "code",
   "execution_count": 13,
   "id": "80c5d697",
   "metadata": {},
   "outputs": [],
   "source": [
    "# Save suite to context\n",
    "validator.save_expectation_suite(discard_failed_expectations=False)"
   ]
  },
  {
   "cell_type": "markdown",
   "id": "9348c6f5",
   "metadata": {},
   "source": [
    "`Checkpoint` dibuat untuk menghubungkan `Expectation Suite` dengan batch data tertentu.<br>\n",
    "Fungsinya adalah sebagai titik eksekusi validasi data yang dapat dijalankan kapan saja."
   ]
  },
  {
   "cell_type": "code",
   "execution_count": 14,
   "id": "73843ef3",
   "metadata": {},
   "outputs": [],
   "source": [
    "# Create a checkpoint\n",
    "\n",
    "checkpoint_1 = context.add_or_update_checkpoint(\n",
    "    name = 'checkpoint_1',\n",
    "    validator = validator,\n",
    ")"
   ]
  },
  {
   "cell_type": "markdown",
   "id": "1e13614d",
   "metadata": {},
   "source": [
    "Pada tahap ini, `checkpoint` dijalankan untuk mengeksekusi seluruh `Expectation` terhadap dataset.<br>\n",
    "Hasil `checkpoint` akan memberikan ringkasan validasi sesuai aturan yang telah ditentukan."
   ]
  },
  {
   "cell_type": "code",
   "execution_count": 15,
   "id": "33eddba9",
   "metadata": {},
   "outputs": [
    {
     "data": {
      "application/vnd.jupyter.widget-view+json": {
       "model_id": "ddf6b5b04dd04c23ab1d167958e2dcf1",
       "version_major": 2,
       "version_minor": 0
      },
      "text/plain": [
       "Calculating Metrics:   0%|          | 0/36 [00:00<?, ?it/s]"
      ]
     },
     "metadata": {},
     "output_type": "display_data"
    }
   ],
   "source": [
    "# Run a checkpoint\n",
    "\n",
    "checkpoint_result = checkpoint_1.run()"
   ]
  }
 ],
 "metadata": {
  "kernelspec": {
   "display_name": "base",
   "language": "python",
   "name": "python3"
  },
  "language_info": {
   "codemirror_mode": {
    "name": "ipython",
    "version": 3
   },
   "file_extension": ".py",
   "mimetype": "text/x-python",
   "name": "python",
   "nbconvert_exporter": "python",
   "pygments_lexer": "ipython3",
   "version": "3.12.3"
  }
 },
 "nbformat": 4,
 "nbformat_minor": 5
}
